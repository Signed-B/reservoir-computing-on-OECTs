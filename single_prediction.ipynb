{
 "cells": [
  {
   "cell_type": "code",
   "execution_count": null,
   "metadata": {},
   "outputs": [],
   "source": [
    "import matplotlib.pyplot as plt\n",
    "import networkx as nx\n",
    "from scipy.stats import norm, uniform\n",
    "\n",
    "import fig_settings as fs\n",
    "from src import *"
   ]
  },
  {
   "cell_type": "code",
   "execution_count": null,
   "metadata": {},
   "outputs": [],
   "source": [
    "colors = [\"#5f6366\", \"#3768d2\", \"#005b7a\", \"#a6cebd\"]\n",
    "fs.set_fonts()\n",
    "idx1 = 0\n",
    "idx2 = 1\n",
    "idx3 = 2"
   ]
  },
  {
   "cell_type": "code",
   "execution_count": null,
   "metadata": {},
   "outputs": [],
   "source": [
    "n = 100\n",
    "alpha = 1e-7\n",
    "\n",
    "training_time = 300  # training time/\n",
    "testing_time = 10\n",
    "frac = 0.5\n",
    "dt = 0.01\n",
    "\n",
    "w_in_sigma = 1e-3\n",
    "\n",
    "gateR = 2.7e4\n",
    "gateC = 8.98e-7\n",
    "pinchoff = -0.6\n",
    "\n",
    "parameters = dict()\n",
    "parameters[\"transconductance\"] = {\"mean\": 0.582e-3, \"stddev\": 0.0582e-3}\n",
    "parameters[\"channel-width\"] = {\"mean\": 200e-6, \"stddev\": 0}\n",
    "parameters[\"channel-length\"] = {\"mean\": 101e-6, \"stddev\": 0}\n",
    "parameters[\"pinchoff-voltage\"] = {\"mean\": pinchoff, \"stddev\": 0}  # pinch-off voltage\n",
    "parameters[\"weighting-resistor\"] = {\"mean\": 500, \"stddev\": 100}\n",
    "parameters[\"gate-capacitance\"] = {\"mean\": gateC, \"stddev\": 0.1 * gateC}\n",
    "parameters[\"gate-resistance\"] = {\"mean\": gateR, \"stddev\": 0.1 * gateR}\n",
    "parameters[\"applied-drain-voltage\"] = {\"mean\": -0.05, \"stddev\": 0}\n",
    "\n",
    "# system\n",
    "D = 3\n",
    "r_dist = uniform(100, 500)\n",
    "delta_dist = norm(scale=0.1)\n",
    "p = 6 / n\n",
    "# plist = np.logspace(-3, 0, 16)\n",
    "# p = plist[3]\n",
    "sigma = 10\n",
    "rho = 28\n",
    "beta = 8 / 3"
   ]
  },
  {
   "cell_type": "code",
   "execution_count": null,
   "metadata": {},
   "outputs": [],
   "source": [
    "u0list = generate_initial_conditions(\n",
    "    10,\n",
    "    [-7.4, -11.1, 20],\n",
    "    delta_dist,\n",
    "    10,\n",
    "    1e-4,\n",
    "    lorenz,\n",
    "    sigma=10,\n",
    "    rho=28,\n",
    "    beta=8 / 3,\n",
    ")\n",
    "\n",
    "u0 = u0list[0]"
   ]
  },
  {
   "cell_type": "code",
   "execution_count": null,
   "metadata": {},
   "outputs": [],
   "source": [
    "# OECT parameters\n",
    "Vdinit, R, Rg, Cg, Vp, Kp, W, L = generate_OECT_parameters(n, parameters)\n",
    "\n",
    "A = erdos_renyi_network(n, p, r_dist)\n",
    "\n",
    "w_in = input_layer(D, n, w_in_sigma)"
   ]
  },
  {
   "cell_type": "code",
   "execution_count": null,
   "metadata": {},
   "outputs": [],
   "source": [
    "nx.is_connected(nx.Graph(A))"
   ]
  },
  {
   "cell_type": "code",
   "execution_count": null,
   "metadata": {},
   "outputs": [],
   "source": [
    "nx.draw(nx.Graph(A), node_size=10, node_color=\"black\")"
   ]
  },
  {
   "cell_type": "code",
   "execution_count": null,
   "metadata": {},
   "outputs": [],
   "source": [
    "w_out, uf, r0, V1_0 = train_oect_reservoir(\n",
    "    u0.copy(),\n",
    "    training_time,\n",
    "    dt,\n",
    "    frac,\n",
    "    w_in,\n",
    "    A,\n",
    "    alpha,\n",
    "    Vdinit,\n",
    "    R,\n",
    "    Rg,\n",
    "    Cg,\n",
    "    Vp,\n",
    "    Kp,\n",
    "    W,\n",
    "    L,\n",
    "    lorenz,\n",
    "    sigma=sigma,\n",
    "    rho=rho,\n",
    "    beta=beta,\n",
    ")"
   ]
  },
  {
   "cell_type": "code",
   "execution_count": null,
   "metadata": {},
   "outputs": [],
   "source": [
    "t, signal_oect, prediction_oect = run_oect_reservoir_autonomously(\n",
    "    uf,\n",
    "    r0,\n",
    "    V1_0,\n",
    "    testing_time,\n",
    "    dt,\n",
    "    w_in,\n",
    "    w_out,\n",
    "    A,\n",
    "    Vdinit,\n",
    "    R,\n",
    "    Rg,\n",
    "    Cg,\n",
    "    Vp,\n",
    "    Kp,\n",
    "    W,\n",
    "    L,\n",
    "    lorenz,\n",
    "    sigma=sigma,\n",
    "    rho=rho,\n",
    "    beta=beta,\n",
    ")"
   ]
  },
  {
   "cell_type": "code",
   "execution_count": null,
   "metadata": {},
   "outputs": [],
   "source": [
    "w_out, uf, r = train_reservoir(\n",
    "    u0.copy(),\n",
    "    w_in,\n",
    "    A,\n",
    "    training_time,\n",
    "    dt,\n",
    "    frac,\n",
    "    alpha,\n",
    "    0,\n",
    "    lorenz,\n",
    "    sigma=sigma,\n",
    "    rho=rho,\n",
    "    beta=beta,\n",
    ")"
   ]
  },
  {
   "cell_type": "code",
   "execution_count": null,
   "metadata": {},
   "outputs": [],
   "source": [
    "## Run reservoir autonomously.\n",
    "t, signal_tanh, prediction_tanh = run_reservoir_autonomously(\n",
    "    uf,\n",
    "    r,\n",
    "    w_in,\n",
    "    w_out,\n",
    "    A,\n",
    "    testing_time,\n",
    "    dt,\n",
    "    0,\n",
    "    lorenz,\n",
    "    sigma=sigma,\n",
    "    rho=rho,\n",
    "    beta=beta,\n",
    ")"
   ]
  }
 ],
 "metadata": {
  "kernelspec": {
   "display_name": "xgi",
   "language": "python",
   "name": "python3"
  },
  "language_info": {
   "codemirror_mode": {
    "name": "ipython",
    "version": 3
   },
   "file_extension": ".py",
   "mimetype": "text/x-python",
   "name": "python",
   "nbconvert_exporter": "python",
   "pygments_lexer": "ipython3",
   "version": "3.12.0"
  }
 },
 "nbformat": 4,
 "nbformat_minor": 2
}
