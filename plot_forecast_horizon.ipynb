{
 "cells": [
  {
   "cell_type": "code",
   "execution_count": null,
   "metadata": {},
   "outputs": [],
   "source": [
    "import json\n",
    "\n",
    "import matplotlib.pyplot as plt\n",
    "import numpy as np\n",
    "import seaborn as sns\n",
    "\n",
    "import fig_settings as fs"
   ]
  },
  {
   "attachments": {},
   "cell_type": "markdown",
   "metadata": {},
   "source": [
    "# Forecast Horizon Plotting\n",
    "\n",
    "Visualizes the short-run predictive power of the reservoir for varying parameter values."
   ]
  },
  {
   "cell_type": "code",
   "execution_count": null,
   "metadata": {},
   "outputs": [],
   "source": [
    "colors = [\"#5f6366\", \"#3768d2\", \"#005b7a\", \"#a6cebd\"]\n",
    "fs.set_fonts()\n",
    "idx2 = 1\n",
    "idx3 = 2"
   ]
  },
  {
   "attachments": {},
   "cell_type": "markdown",
   "metadata": {},
   "source": [
    "#### Fig. 5: Forecast Horizon v $N$"
   ]
  },
  {
   "cell_type": "code",
   "execution_count": null,
   "metadata": {},
   "outputs": [],
   "source": [
    "with open(\"Data/FH_vs_n.json\") as file:\n",
    "    jsondata = json.loads(file.read())\n",
    "    n = np.array(jsondata[\"n\"], dtype=float)\n",
    "    FH_OECT = np.array(jsondata[\"FH-OECT\"], dtype=float)\n",
    "    FH_tanh = np.array(jsondata[\"FH-tanh\"], dtype=float)"
   ]
  },
  {
   "cell_type": "code",
   "execution_count": null,
   "metadata": {},
   "outputs": [],
   "source": [
    "dodge = 0.00005 * (max(n) - min(n))\n",
    "\n",
    "plt.figure(figsize=(5.5, 4))\n",
    "plt.errorbar(\n",
    "    n * (1 - dodge),\n",
    "    np.nanmean(FH_OECT, axis=1),\n",
    "    yerr=np.nanstd(FH_OECT, axis=1),\n",
    "    fmt=\"--\",\n",
    "    marker=\"o\",\n",
    "    capsize=3,\n",
    "    color=colors[idx2],\n",
    "    label=\"OECT prediction\",\n",
    ")\n",
    "plt.errorbar(\n",
    "    n * (1 + dodge),\n",
    "    np.nanmean(FH_tanh, axis=1),\n",
    "    yerr=np.nanstd(FH_tanh, axis=1),\n",
    "    fmt=\"-.\",\n",
    "    marker=\"o\",\n",
    "    color=colors[idx3],\n",
    "    capsize=3,\n",
    "    label=\"tanh prediction\",\n",
    ")\n",
    "plt.xscale(\"log\")\n",
    "\n",
    "plt.ylabel(\"FH\")\n",
    "plt.xlabel(r\"Reservoir size, $N$\")\n",
    "\n",
    "plt.subplots_adjust(bottom=0.2, left=0.18)\n",
    "\n",
    "sns.despine()\n",
    "plt.legend()\n",
    "plt.savefig(\"Figures/fig5.png\", dpi=1000)\n",
    "plt.savefig(\"Figures/fig5.pdf\", dpi=1000)\n",
    "plt.show()"
   ]
  },
  {
   "attachments": {},
   "cell_type": "markdown",
   "metadata": {},
   "source": [
    "#### Fig. 6: Forecast Horizon vs. the pinchoff voltage"
   ]
  },
  {
   "cell_type": "code",
   "execution_count": null,
   "metadata": {},
   "outputs": [],
   "source": [
    "with open(\"Data/FH_vs_pinchoff.json\") as file:\n",
    "    jsondata = json.loads(file.read())\n",
    "    pinchoff = np.array(jsondata[\"pinchoff\"], dtype=float)\n",
    "    FH_OECT = np.array(jsondata[\"FH-OECT\"], dtype=float)"
   ]
  },
  {
   "cell_type": "code",
   "execution_count": null,
   "metadata": {},
   "outputs": [],
   "source": [
    "plt.figure(figsize=(5.5, 4))\n",
    "plt.errorbar(\n",
    "    pinchoff,\n",
    "    np.nanmean(FH_OECT, axis=1),\n",
    "    yerr=np.nanstd(FH_OECT, axis=1),\n",
    "    fmt=\"--\",\n",
    "    marker=\"o\",\n",
    "    capsize=3,\n",
    "    color=colors[idx2],\n",
    "    label=\"OECT prediction\",\n",
    ")\n",
    "plt.ylabel(\"FH\")\n",
    "plt.xlabel(r\"Pinchoff voltage, $V_p$\")\n",
    "\n",
    "plt.subplots_adjust(bottom=0.2, left=0.18)\n",
    "\n",
    "sns.despine()\n",
    "plt.legend()\n",
    "plt.savefig(\"Figures/fig6.png\", dpi=1000)\n",
    "plt.savefig(\"Figures/fig6.pdf\", dpi=1000)\n",
    "plt.show()"
   ]
  },
  {
   "attachments": {},
   "cell_type": "markdown",
   "metadata": {},
   "source": [
    "#### Fig. 7: Forecast Horizon vs. the connection probability"
   ]
  },
  {
   "cell_type": "code",
   "execution_count": null,
   "metadata": {},
   "outputs": [],
   "source": [
    "with open(\"Data/FH_vs_p.json\") as file:\n",
    "    jsondata = json.loads(file.read())\n",
    "    p = np.array(jsondata[\"p\"], dtype=float)\n",
    "    FH_OECT = np.array(jsondata[\"FH-OECT\"], dtype=float)\n",
    "    FH_tanh = np.array(jsondata[\"FH-tanh\"], dtype=float)"
   ]
  },
  {
   "cell_type": "code",
   "execution_count": null,
   "metadata": {},
   "outputs": [],
   "source": [
    "dodge = 0.03 * (max(p) - min(p))\n",
    "eps = 0.15\n",
    "\n",
    "plt.figure(figsize=(5.5, 4))\n",
    "plt.errorbar(\n",
    "    p * (1 - dodge),\n",
    "    np.nanmean(FH_OECT, axis=1),\n",
    "    yerr=np.nanstd(FH_OECT, axis=1),\n",
    "    fmt=\"--\",\n",
    "    marker=\"o\",\n",
    "    color=colors[idx2],\n",
    "    capsize=3,\n",
    "    label=\"OECT prediction\",\n",
    ")\n",
    "plt.errorbar(\n",
    "    p * (1 + dodge),\n",
    "    np.nanmean(FH_tanh, axis=1),\n",
    "    yerr=np.nanstd(FH_tanh, axis=1),\n",
    "    fmt=\"-.\",\n",
    "    marker=\"o\",\n",
    "    color=colors[idx3],\n",
    "    capsize=3,\n",
    "    label=\"tanh prediction\",\n",
    ")\n",
    "plt.ylabel(\"FH\")\n",
    "plt.xlabel(r\"Connection probability, $p$\")\n",
    "plt.xscale(\"log\")\n",
    "\n",
    "plt.subplots_adjust(bottom=0.2, left=0.18)\n",
    "plt.xlim([1e-3 * (1 - eps), 1 * (1 + eps)])\n",
    "sns.despine()\n",
    "plt.legend()\n",
    "plt.savefig(\"Figures/fig7.png\", dpi=1000)\n",
    "plt.savefig(\"Figures/fig7.pdf\", dpi=1000)\n",
    "plt.show()"
   ]
  },
  {
   "attachments": {},
   "cell_type": "markdown",
   "metadata": {},
   "source": [
    "#### Fig. S1: Forecast Horizon vs. $\\alpha$"
   ]
  },
  {
   "cell_type": "code",
   "execution_count": null,
   "metadata": {},
   "outputs": [],
   "source": [
    "with open(\"Data/FH_vs_alpha.json\") as file:\n",
    "    jsondata = json.loads(file.read())\n",
    "    alpha = np.array(jsondata[\"alpha\"], dtype=float)\n",
    "    FH_OECT = np.array(jsondata[\"FH-OECT\"], dtype=float)\n",
    "    FH_tanh = np.array(jsondata[\"FH-tanh\"], dtype=float)"
   ]
  },
  {
   "cell_type": "code",
   "execution_count": null,
   "metadata": {},
   "outputs": [],
   "source": [
    "dodge = 0.5 * (max(alpha) - min(alpha))\n",
    "\n",
    "plt.figure(figsize=(5.5, 4))\n",
    "plt.errorbar(\n",
    "    alpha * (1 - dodge),\n",
    "    np.nanmean(FH_OECT, axis=1),\n",
    "    yerr=np.nanstd(FH_OECT, axis=1),\n",
    "    fmt=\"--\",\n",
    "    marker=\"o\",\n",
    "    color=colors[idx2],\n",
    "    capsize=3,\n",
    "    label=\"OECT prediction\",\n",
    ")\n",
    "plt.errorbar(\n",
    "    alpha * (1 + dodge),\n",
    "    np.nanmean(FH_tanh, axis=1),\n",
    "    yerr=p.nanstd(FH_tanh, axis=1),\n",
    "    fmt=\"--\",\n",
    "    marker=\"o\",\n",
    "    color=colors[idx3],\n",
    "    capsize=3,\n",
    "    label=\"tanh prediction\",\n",
    ")\n",
    "plt.ylabel(\"FH\")\n",
    "plt.xlabel(r\"Ridge regression parameter, $\\alpha$\")\n",
    "plt.xscale(\"log\")\n",
    "\n",
    "plt.yticks([0, 2, 4, 6, 8], [0, 2, 4, 6, 8])\n",
    "\n",
    "plt.subplots_adjust(bottom=0.2, left=0.18)\n",
    "\n",
    "sns.despine()\n",
    "plt.legend()\n",
    "plt.savefig(\"Figures/figS1.png\", dpi=1000)\n",
    "plt.savefig(\"Figures/figS1.pdf\", dpi=1000)\n",
    "plt.show()"
   ]
  }
 ],
 "metadata": {
  "kernelspec": {
   "display_name": "base",
   "language": "python",
   "name": "python3"
  },
  "language_info": {
   "codemirror_mode": {
    "name": "ipython",
    "version": 3
   },
   "file_extension": ".py",
   "mimetype": "text/x-python",
   "name": "python",
   "nbconvert_exporter": "python",
   "pygments_lexer": "ipython3",
   "version": "3.10.4"
  },
  "orig_nbformat": 4
 },
 "nbformat": 4,
 "nbformat_minor": 2
}
